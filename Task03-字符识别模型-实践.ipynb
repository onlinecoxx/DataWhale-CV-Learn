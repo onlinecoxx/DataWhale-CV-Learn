{
 "cells": [
  {
   "cell_type": "code",
   "execution_count": 4,
   "metadata": {},
   "outputs": [
    {
     "name": "stdout",
     "output_type": "stream",
     "text": [
      "真实情况： [1 1 1 0 0 0 2 1 2 0]\n",
      "预测结果： [1 2 1 0 0 0 2 1 2 0]\n"
     ]
    }
   ],
   "source": [
    "#KNN调用\n",
    "import numpy as np\n",
    "from sklearn import datasets\n",
    "\n",
    "# 加载数据\n",
    "iris = datasets.load_iris()\n",
    "iris_X = iris.data\n",
    "iris_y = iris.target\n",
    "\n",
    "# Split iris data in train and test data\n",
    "# A random permutation, to split the data randomly\n",
    "np.unique(iris_y)\n",
    "np.random.seed(0)\n",
    "\n",
    "# permutation随机生成一个范围内的序列\n",
    "indices = np.random.permutation(len(iris_X))\n",
    "\n",
    "# 通过随机序列将数据随机进行测试集和训练集的划分\n",
    "iris_X_train = iris_X[indices[:-10]]\n",
    "iris_y_train = iris_y[indices[:-10]]\n",
    "iris_X_test  = iris_X[indices[-10:]]\n",
    "iris_y_test  = iris_y[indices[-10:]]\n",
    "\n",
    "# Create and fit a nearest-neighbor classifier\n",
    "from sklearn.neighbors import KNeighborsClassifier\n",
    "knn = KNeighborsClassifier(algorithm='auto', leaf_size=30, metric='minkowski',\n",
    "           metric_params=None, n_jobs=1, n_neighbors=5, p=2,\n",
    "           weights='uniform')\n",
    "knn.fit(iris_X_train, iris_y_train) \n",
    "# 训练的结果\n",
    "predict_y_test = knn.predict(iris_X_test)\n",
    "print('真实情况：', iris_y_test)\n",
    "print('预测结果：', predict_y_test)"
   ]
  },
  {
   "cell_type": "code",
   "execution_count": null,
   "metadata": {},
   "outputs": [],
   "source": []
  }
 ],
 "metadata": {
  "kernelspec": {
   "display_name": "Python 3",
   "language": "python",
   "name": "python3"
  },
  "language_info": {
   "codemirror_mode": {
    "name": "ipython",
    "version": 3
   },
   "file_extension": ".py",
   "mimetype": "text/x-python",
   "name": "python",
   "nbconvert_exporter": "python",
   "pygments_lexer": "ipython3",
   "version": "3.6.10"
  }
 },
 "nbformat": 4,
 "nbformat_minor": 4
}
