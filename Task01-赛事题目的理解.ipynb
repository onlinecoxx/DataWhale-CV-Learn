{
 "cells": [
  {
   "cell_type": "markdown",
   "metadata": {},
   "source": [
    "# Task01 DataWhale - 零基础对赛事的理解"
   ]
  },
  {
   "cell_type": "markdown",
   "metadata": {},
   "source": [
    "## 1. 赛事的背景"
   ]
  },
  {
   "cell_type": "markdown",
   "metadata": {},
   "source": [
    " * 赛事数据来源： 赛题数据采用公开数据集 <a href=\"http://ufldl.stanford.edu/housenumbers/\">SVHN</a>\n",
    " \n",
    " * 参赛的目的： 提升自己在CV方面的建模能力和实操，并掌握基础的计算机视觉分析方法，间接提升团队协作能力。\n",
    " \n",
    " * 思路解决途径: 与团队探讨赛事过程中遇到的问题，同时参考相应的paper作为思路参考（例如大佬推荐的：https://github.com/ChanChiChoi/awesome-ocr)\n",
    " \n",
    " * 基础知识学习外参考: \n",
    " \n",
    " <a href=\"https://github.com/ShusenTang/Dive-into-DL-PyTorch\" title=\"动手学深度学习+pytorch\">1. 动手学深度学习+pytorch</a></br> \n",
    " <a href=\"https://github.com/ex2tron/OpenCV-Python-Tutorial\" title=\"opencv基础教程\">2. opencv基础教程</a>"
   ]
  },
  {
   "cell_type": "markdown",
   "metadata": {},
   "source": [
    "## 2. 赛事规则理解及准备"
   ]
  },
  {
   "cell_type": "markdown",
   "metadata": {},
   "source": [
    "### 2.1 赛事报名详情"
   ]
  },
  {
   "cell_type": "markdown",
   "metadata": {},
   "source": [
    " 报名地址：https://tianchi.aliyun.com/competition/entrance/531795/introduction\n",
    " ![数据示例](Task01/报名地址.png)"
   ]
  },
  {
   "cell_type": "markdown",
   "metadata": {},
   "source": [
    " 报名完成完成数据下载，保存到 `./DATA_SOURCE` 目录下."
   ]
  },
  {
   "cell_type": "markdown",
   "metadata": {},
   "source": [
    "### 2.2 赛事数据"
   ]
  },
  {
   "cell_type": "markdown",
   "metadata": {},
   "source": [
    "|数据类别 | 数量大小 | 数据来源 |\n",
    "| ---- | ---- | ---- |\n",
    "|训练集 | 3W | 赛事给定数据 |\n",
    "|验证集 | 1W | 赛事给定数据 |\n",
    "|测试集 | 4W | SVHN原始数据集 |\n",
    "\n",
    "- 数据特点：训练集、验证集提供了训练集、验证集中所有字符的位置框\n",
    "\n",
    "- 注意事项：所有的参赛选手只能使用比赛给定的数据集完成训练，不能使用SVHN原始数据集进行训练。比赛结束后将会对Top选手进行代码审核，违规的选手将清除排行榜成绩"
   ]
  },
  {
   "cell_type": "markdown",
   "metadata": {},
   "source": [
    "### 2.3 数据标签"
   ]
  },
  {
   "cell_type": "markdown",
   "metadata": {},
   "source": [
    "| 原始图片 | 图例说明 | 图片JSON标识 |\n",
    "| -- | -- | ---- |\n",
    "| <img src=\"Task01/原始图片.png\" alt=\"原始图片\" width=\"300\" height=\"250\" align=\"center\" /> | <img src=\"Task01/字符坐标.png\" alt=\"字符坐标\" width=\"250\" height=\"250\" align=\"center\" /> | <span>{<br>&nbsp;&nbsp;&nbsp;&nbsp;<span style=\"color:#92278f;font-weight:bold;\">\"top\"</span>:<span style=\"color:#25aae2;font-weight:bold;\">[77, 8]</span>,<br>&nbsp;&nbsp;&nbsp;&nbsp;<span style=\"color:#92278f;font-weight:bold;\">\"left\"</span>:<span style=\"color:#25aae2;font-weight:bold;\">[246, 323]</span>,<br>&nbsp;&nbsp;&nbsp;&nbsp;<span style=\"color:#92278f;font-weight:bold;\">\"label\"</span>:<span style=\"color:#25aae2;font-weight:bold;\">[1, 9]</span>,<br>&nbsp;&nbsp;&nbsp;&nbsp;<span style=\"color:#92278f;font-weight:bold;\">\"height\"</span>:<span style=\"color:#25aae2;font-weight:bold;\">[219, 219]</span>,<br>&nbsp;&nbsp;&nbsp;&nbsp;<span style=\"color:#92278f;font-weight:bold;\">\"width\"</span>:<span style=\"color:#25aae2;font-weight:bold;\">[81, 96]</span><br>}</span> |"
   ]
  },
  {
   "cell_type": "code",
   "execution_count": 14,
   "metadata": {},
   "outputs": [],
   "source": [
    "# 对数据集中的JSON标签文件进行读取\n",
    "# TODO"
   ]
  },
  {
   "cell_type": "markdown",
   "metadata": {},
   "source": [
    "### 2.4 评价指标"
   ]
  },
  {
   "cell_type": "markdown",
   "metadata": {},
   "source": [
    "$$ Score = \\frac{编码识别正确的数量}{测试集图片数量} $$"
   ]
  },
  {
   "cell_type": "markdown",
   "metadata": {},
   "source": [
    "### 2.5 解题思路"
   ]
  },
  {
   "cell_type": "markdown",
   "metadata": {},
   "source": [
    "> **当前有三种解题方式**\n",
    "\n",
    "1. 定长字符识别: （多标签分类问题）将问题转化为对每一张图像的定长字符识别。 首先对训练集中图片的最长字符数进行求解，结果显示最长字符数为6（求解过程如下代码所示），因此假设每张图片含6个字符，不足6个的位置补 $X$。这样每一张图像上的字符就有$[0,1,2,3,4,5,6,7,8,9,X]$ 这11个类别。\n",
    "\n",
    "![23XXXX](Task01/23xxxxxx.png)"
   ]
  },
  {
   "cell_type": "code",
   "execution_count": 11,
   "metadata": {},
   "outputs": [],
   "source": [
    "# TODO"
   ]
  },
  {
   "cell_type": "markdown",
   "metadata": {},
   "source": [
    "2. 不定长字符识别：采用特定的方法解决不定长字符识别问题，比如CRNN模型。(存疑，不太了解，后续再补充)"
   ]
  },
  {
   "cell_type": "code",
   "execution_count": 12,
   "metadata": {},
   "outputs": [],
   "source": [
    "# TODO"
   ]
  },
  {
   "cell_type": "markdown",
   "metadata": {},
   "source": [
    "3. 检测再识别：（目标检测问题）直接将问题看作是一个10个类别的目标检测问题，参考YOLO或者SSD等常用检测模型进行解决。"
   ]
  },
  {
   "cell_type": "code",
   "execution_count": 13,
   "metadata": {},
   "outputs": [],
   "source": [
    "# TODO"
   ]
  },
  {
   "cell_type": "markdown",
   "metadata": {},
   "source": [
    "## 4. 本节总结"
   ]
  },
  {
   "cell_type": "markdown",
   "metadata": {},
   "source": [
    "- 掌握了参与该赛事的基本流程方法。\n",
    "- 掌握了赛事的基本规则和数据结构。\n",
    "- 对赛事题目有了更深刻的认识，三种解决思路的难度从低到高，也在下面的学习中逐步强化能力。"
   ]
  }
 ],
 "metadata": {
  "kernelspec": {
   "display_name": "Python 3",
   "language": "python",
   "name": "python3"
  },
  "language_info": {
   "codemirror_mode": {
    "name": "ipython",
    "version": 3
   },
   "file_extension": ".py",
   "mimetype": "text/x-python",
   "name": "python",
   "nbconvert_exporter": "python",
   "pygments_lexer": "ipython3",
   "version": "3.7.3"
  }
 },
 "nbformat": 4,
 "nbformat_minor": 4
}
