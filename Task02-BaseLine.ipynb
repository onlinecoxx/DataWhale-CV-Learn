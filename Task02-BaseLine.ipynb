{
 "cells": [
  {
   "cell_type": "markdown",
   "metadata": {},
   "source": [
    "# "
   ]
  },
  {
   "cell_type": "markdown",
   "metadata": {},
   "source": [
    "# Task02 - 数据读取与数据扩增"
   ]
  },
  {
   "cell_type": "code",
   "execution_count": 1,
   "metadata": {},
   "outputs": [],
   "source": [
    "import torch\n",
    "import numpy as np\n",
    "import matplotlib.pyplot as plt\n",
    "import torch.nn.functional as F\n",
    "import torch.utils.data as ud\n",
    "from torchvision import transforms\n",
    "from torchvision import datasets\n",
    "from PIL import Image\n",
    "import cv2\n",
    "import glob\n",
    "import json"
   ]
  },
  {
   "cell_type": "markdown",
   "metadata": {},
   "source": [
    "## 模型数据准备，数据扩增"
   ]
  },
  {
   "cell_type": "code",
   "execution_count": 2,
   "metadata": {},
   "outputs": [],
   "source": [
    "# 进行数据扩展\n",
    "\n",
    "class SVHDataset(ud.Dataset):\n",
    "    def __init__(self, img_pattern, label_folder, transform=None):\n",
    "        self.img_path = glob.glob(img_pattern)\n",
    "        self.img_label = [v['label'] for k,v in json.load(open(label_folder)).items()]\n",
    "        self.img_path.sort()\n",
    "        self.transform = transform\n",
    "    def __getitem__(self, index):\n",
    "        \"\"\"\n",
    "        实现了切片方法的获取\n",
    "        \"\"\"\n",
    "        # 批量读取数据\n",
    "        img = Image.open(self.img_path[index]).convert('RGB')\n",
    "        if self.transform is not None:\n",
    "            img = self.transform(img)\n",
    "        # 将原始数据分类10为0, 保证有五位数字\n",
    "        # example: [10]*2 = [10, 10], [2, 3] + [10] = [2, 3, 10]\n",
    "        lbl = np.array(self.img_label[index], dtype=np.int)\n",
    "        lbl = list(lbl) + (5 - len(lbl))*[10]\n",
    "        return img, torch.Tensor(lbl[:5])\n",
    "    def __len__(self):\n",
    "        return len(self.img_path)"
   ]
  },
  {
   "cell_type": "code",
   "execution_count": 3,
   "metadata": {},
   "outputs": [],
   "source": [
    "# 数据扩充和训练规范化\n",
    "data_transforms = {\n",
    "    'train': transforms.Compose([\n",
    "                # 缩放到固定尺⼨\n",
    "                transforms.Resize((64, 128)),\n",
    "                transforms.RandomCrop((60, 120)),\n",
    "                transforms.ColorJitter(0.3, 0.3, 0.2),\n",
    "                # 加⼊随机旋转\n",
    "                transforms.RandomRotation(10),\n",
    "                # 将图⽚转换为pytorch 的tesntor\n",
    "                transforms.ToTensor(),\n",
    "                # 对图像像素进⾏归⼀化\n",
    "                transforms.Normalize([0.485,0.456,0.406],[0.229,0.224,0.225])\n",
    "            ]),\n",
    "    'val': transforms.Compose([\n",
    "                # 缩放到固定尺⼨\n",
    "                transforms.Resize((60, 128)),\n",
    "                # 将图⽚转换为pytorch 的tesntor\n",
    "                transforms.ToTensor(),\n",
    "                # 对图像像素进⾏归⼀化\n",
    "                transforms.Normalize([0.485,0.456,0.406],[0.229,0.224,0.225])\n",
    "            ]),\n",
    "}"
   ]
  },
  {
   "cell_type": "code",
   "execution_count": 4,
   "metadata": {},
   "outputs": [
    {
     "data": {
      "text/plain": [
       "<matplotlib.image.AxesImage at 0x2351f1de208>"
      ]
     },
     "execution_count": 4,
     "metadata": {},
     "output_type": "execute_result"
    },
    {
     "data": {
      "image/png": "[encoded data removed]",
      "text/plain": [
       "<Figure size 360x360 with 1 Axes>"
      ]
     },
     "metadata": {
      "needs_background": "light"
     },
     "output_type": "display_data"
    }
   ],
   "source": [
    "# 测试切片的方法\n",
    "img_01, label_01 = SVHDataset('Datasets/mchar_train/*.png', 'Datasets/mchar_train.json')[np.random.choice(range(30000))]\n",
    "plt.figure(figsize=(5, 5))\n",
    "plt.title('Label is %s' % label_01)\n",
    "plt.imshow(img_01)"
   ]
  },
  {
   "cell_type": "code",
   "execution_count": 5,
   "metadata": {},
   "outputs": [],
   "source": [
    "import sys\n",
    "\n",
    "EPOCH = 10\n",
    "BATCH_SIZE = 30\n",
    "USE_CUDA = True\n",
    "\n",
    "train_loader = ud.DataLoader(\n",
    "    dataset=SVHDataset('Datasets/mchar_train/*.png', 'Datasets/mchar_train.json', data_transforms['train']),\n",
    "    batch_size=BATCH_SIZE,\n",
    "    shuffle=True,\n",
    "    # num_workers 在windows上报错 设置改为 0\n",
    "    num_workers= (0 if sys.platform.startswith('win') else 10)\n",
    ")\n",
    "val_loader = ud.DataLoader(\n",
    "    dataset=SVHDataset('Datasets/mchar_val/*.png', 'Datasets/mchar_val.json', data_transforms['val']),\n",
    "    batch_size=BATCH_SIZE,\n",
    "    shuffle=False,\n",
    "    # num_workers 在windows上报错 设置改为 0\n",
    "    num_workers= (0 if sys.platform.startswith('win') else 10)\n",
    ")"
   ]
  },
  {
   "cell_type": "markdown",
   "metadata": {},
   "source": [
    "## 模型结构定义"
   ]
  },
  {
   "cell_type": "code",
   "execution_count": 6,
   "metadata": {},
   "outputs": [],
   "source": [
    "from torchvision import models\n",
    "\n",
    "# 初始化构建线性网络\n",
    "class SVHN_Model(torch.nn.Module):\n",
    "    def __init__(self, path=None):\n",
    "        super(SVHN_Model, self).__init__()\n",
    "        if path is None:\n",
    "            model_conv = models.resnet18(pretrained=True)\n",
    "        else:\n",
    "            model_conv = models.resnet18(pretrained=False)\n",
    "            model_conv.load_state_dict(torch.load(path))\n",
    "        model_conv.avgpool = torch.nn.AdaptiveAvgPool2d(1)\n",
    "        model_conv = torch.nn.Sequential(*list(model_conv.children())[:-1])\n",
    "        self.cnn = model_conv\n",
    "        # 每个字符有11中情况\n",
    "        self.fc1 = torch.nn.Linear(512, 11)\n",
    "        self.fc2 = torch.nn.Linear(512, 11)\n",
    "        self.fc3 = torch.nn.Linear(512, 11)\n",
    "        self.fc4 = torch.nn.Linear(512, 11)\n",
    "        self.fc5 = torch.nn.Linear(512, 11)\n",
    "    def forward(self, img):\n",
    "        # activation function for\n",
    "        # 容易过拟合导致准确度下降\n",
    "        feat = self.cnn(img)\n",
    "        feat = feat.view(feat.shape[0], -1)\n",
    "        feat = F.dropout2d(feat)\n",
    "        # 排除其他无关元素影响，只留正相关因素\n",
    "        c1 = self.fc1(feat)\n",
    "        c2 = self.fc2(feat)\n",
    "        c3 = self.fc3(feat)\n",
    "        c4 = self.fc4(feat)\n",
    "        c5 = self.fc5(feat)\n",
    "        return c1, c2, c3, c4, c5"
   ]
  },
  {
   "cell_type": "markdown",
   "metadata": {},
   "source": [
    "## 验证、训练、预测方法定义"
   ]
  },
  {
   "cell_type": "code",
   "execution_count": 7,
   "metadata": {},
   "outputs": [],
   "source": [
    "from functools import reduce\n",
    "\n",
    "def train_def(train_loader, model, loss_func, optimizer):\n",
    "    \n",
    "    # 切换模型为训练模式\n",
    "    model.train()\n",
    "    train_loss = []\n",
    "\n",
    "    for step, (batch_x, batch_y) in enumerate(train_loader):\n",
    "        # train your data...\n",
    "        if USE_CUDA:\n",
    "            batch_x = batch_x.cuda()\n",
    "            # 将 float32 强制转换为 long\n",
    "            batch_y = batch_y.long().cuda()\n",
    "        predicate = model(batch_x)\n",
    "        # 对应个位置上的字符 -> [11情况概率] <=> [label真实值]\n",
    "        loss = reduce(lambda x, y: x + y, [loss_func(predicate[m], batch_y[:, m]) for m in range(batch_y.shape[1])])\n",
    "        optimizer.zero_grad()\n",
    "        loss.backward()\n",
    "        optimizer.step()\n",
    "        train_loss.append(loss.item())\n",
    "    return np.array(train_loss)\n",
    "        \n",
    "def validate_def(val_loader, model, loss_func):\n",
    "    # 切换模型为预测模型\n",
    "    model.eval()\n",
    "    val_loss = []\n",
    "    # 不记录模型梯度信息\n",
    "    with torch.no_grad():\n",
    "        for step, (batch_x, batch_y) in enumerate(val_loader):\n",
    "            if USE_CUDA:\n",
    "                batch_x = batch_x.cuda()\n",
    "                # 将 float32 强制转换为 long\n",
    "                batch_y = batch_y.long().cuda()\n",
    "            predicate = model(batch_x)\n",
    "            # 叠加 loss_func\n",
    "            loss = reduce(lambda x, y: x + y, [loss_func(predicate[m], batch_y[:, m]) for m in range(batch_y.shape[1])])\n",
    "            val_loss.append(loss.item())\n",
    "    return np.array(val_loss)\n",
    "\n",
    "def predict_def(test_loader, model, tta=10):\n",
    "    \n",
    "    model.eval()\n",
    "    test_pred_tta, test_target_tta = None, None\n",
    "\n",
    "    # TTA 次数\n",
    "    for _ in range(tta):\n",
    "        test_pred, test_target = [], []\n",
    "        with torch.no_grad():\n",
    "            for step, (batch_x, batch_y) in enumerate(test_loader):\n",
    "                if USE_CUDA:\n",
    "                    batch_x = batch_x.cuda()\n",
    "                    batch_y = batch_y.long().cuda()\n",
    "                predicate_y = model(batch_x)\n",
    "                output = torch.stack(predicate_y, dim=1)\n",
    "                # 最大概率的索引值\n",
    "                output = torch.argmax(output, dim=2)\n",
    "                test_pred.append(output)\n",
    "                test_target.append(batch_y)\n",
    "                \n",
    "        test_pred, test_target = torch.cat(test_pred), torch.cat(test_target)\n",
    "        \n",
    "        if test_pred_tta is None:\n",
    "            test_pred_tta, test_target_tta = test_pred, test_target\n",
    "        else:\n",
    "            test_pred_tta += test_pred\n",
    "            test_target_tta += test_target\n",
    "    return test_pred_tta, test_target_tta"
   ]
  },
  {
   "cell_type": "markdown",
   "metadata": {},
   "source": [
    "## 模型执行"
   ]
  },
  {
   "cell_type": "code",
   "execution_count": null,
   "metadata": {},
   "outputs": [
    {
     "name": "stdout",
     "output_type": "stream",
     "text": [
      "Epoch: 0, Train loss: 4.03201458311081 \t Val loss: 3.7035960837038693\n",
      "Val Acc 0.312\n",
      "Find better model in Epoch 0, saving model.\n",
      "Epoch: 1, Train loss: 2.5711640647649765 \t Val loss: 3.3322740825350414\n",
      "Val Acc 0.3872\n",
      "Find better model in Epoch 1, saving model.\n",
      "Epoch: 2, Train loss: 2.173556577920914 \t Val loss: 2.988036193176658\n",
      "Val Acc 0.4479\n",
      "Find better model in Epoch 2, saving model.\n",
      "Epoch: 3, Train loss: 1.9228811027407646 \t Val loss: 2.998298345568651\n",
      "Val Acc 0.452\n",
      "Epoch: 4, Train loss: 1.7466339838504792 \t Val loss: 2.753334600411489\n",
      "Val Acc 0.4978\n",
      "Find better model in Epoch 4, saving model.\n",
      "Epoch: 5, Train loss: 1.615467549264431 \t Val loss: 2.627869630288221\n",
      "Val Acc 0.5097\n",
      "Find better model in Epoch 5, saving model.\n"
     ]
    }
   ],
   "source": [
    "model = SVHN_Model()  # define the network\n",
    "if USE_CUDA:\n",
    "    model = model.cuda()\n",
    "\n",
    "# 开启训练模式\n",
    "\n",
    "optimizer = torch.optim.Adam(model.parameters(),lr=0.001)\n",
    "# the target label is NOT an one-hotted\n",
    "loss_func = torch.nn.CrossEntropyLoss()\n",
    "\n",
    "best_loss = 15\n",
    "\n",
    "train_loss_list = []\n",
    "val_loss_list = []\n",
    "val_char_acc_list = []\n",
    "\n",
    "for epoch in range(EPOCH):\n",
    "    \n",
    "    # 损失得分\n",
    "    train_loss = train_def(train_loader, model, loss_func, optimizer)\n",
    "    val_loss = validate_def(val_loader, model, loss_func)\n",
    "    \n",
    "    # 预测值结果与真实值比较关联\n",
    "    val_predict_label, val_target_label = predict_def(val_loader, model, 1)\n",
    "    val_label_pred = np.array([''.join(map(lambda x: str(x.item()), labels[labels!=10])) for labels in val_predict_label])\n",
    "    val_label_target = np.array([''.join(map(lambda x: str(x.item()), labels[labels!=10])) for labels in val_target_label])\n",
    "    \n",
    "    # score 评价得分\n",
    "    val_char_acc = np.sum(val_label_pred == val_label_target) / len(val_label_target)\n",
    "    \n",
    "    #将值添加到list\n",
    "    train_loss_list.append(train_loss)\n",
    "    val_loss_list.append(val_loss)\n",
    "    val_char_acc_list.append(val_char_acc)\n",
    "    \n",
    "    print('Epoch: {0}, Train loss: {1} \\t Val loss: {2}'.format(epoch, np.mean(train_loss), np.mean(val_loss)))\n",
    "    print('Val Acc', val_char_acc)\n",
    "    \n",
    "    # 记录下验证集最佳精度\n",
    "    if np.mean(val_loss) < best_loss:\n",
    "        best_loss = np.mean(val_loss)\n",
    "        print('Find better model in Epoch {0}, saving model.'.format(epoch))\n",
    "        # 保存模型参数\n",
    "        torch.save(model.state_dict(), './model.pt')"
   ]
  },
  {
   "cell_type": "code",
   "execution_count": null,
   "metadata": {},
   "outputs": [],
   "source": [
    "import seaborn as sns\n",
    "sns.set_style()\n",
    "train_loss = np.hstack(np.array(train_loss_list))\n",
    "print(train_loss.shape)\n",
    "plt.figure(figsize=(18, 5))\n",
    "plt.subplot(1, 3, 1)\n",
    "plt.plot(train_loss)\n",
    "plt.xlabel('step')\n",
    "plt.ylabel('train loss')\n",
    "plt.title('Train loss from step')\n",
    "plt.subplot(1, 3, 2)\n",
    "val_loss = np.hstack(np.array(val_loss_list))\n",
    "plt.plot(val_loss)\n",
    "plt.xlabel('step')\n",
    "plt.ylabel('Val loss')\n",
    "plt.title('Val loss from step')\n",
    "plt.subplot(1, 3, 3)\n",
    "plt.plot(val_char_acc_list)\n",
    "plt.xlabel('epoch')\n",
    "plt.ylabel('Accuracy Value')\n",
    "plt.title('Val Accuracy from epoch')"
   ]
  },
  {
   "cell_type": "code",
   "execution_count": null,
   "metadata": {},
   "outputs": [],
   "source": []
  }
 ],
 "metadata": {
  "kernelspec": {
   "display_name": "Python 3",
   "language": "python",
   "name": "python3"
  },
  "language_info": {
   "codemirror_mode": {
    "name": "ipython",
    "version": 3
   },
   "file_extension": ".py",
   "mimetype": "text/x-python",
   "name": "python",
   "nbconvert_exporter": "python",
   "pygments_lexer": "ipython3",
   "version": "3.6.10"
  }
 },
 "nbformat": 4,
 "nbformat_minor": 4
}
